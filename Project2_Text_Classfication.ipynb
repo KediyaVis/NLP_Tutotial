{
 "cells": [
  {
   "cell_type": "code",
   "execution_count": 2,
   "id": "dcd4beb2-994b-4d55-aa9b-828378ca2d6c",
   "metadata": {},
   "outputs": [
    {
     "name": "stdout",
     "output_type": "stream",
     "text": [
      "Path to dataset files: C:\\Users\\visha\\.cache\\kagglehub\\datasets\\datatattle\\covid-19-nlp-text-classification\\versions\\1\n"
     ]
    }
   ],
   "source": [
    "import kagglehub\n",
    "\n",
    "# Download latest version\n",
    "path = kagglehub.dataset_download(\"datatattle/covid-19-nlp-text-classification\")\n",
    "\n",
    "print(\"Path to dataset files:\", path)"
   ]
  },
  {
   "cell_type": "code",
   "execution_count": 4,
   "id": "382f2993-7836-4fa9-9f44-8a5cb51f514e",
   "metadata": {},
   "outputs": [],
   "source": [
    "import pandas as pd\n",
    "df = pd.read_csv('Corona_NLP_train.csv',encoding='latin-1')\n",
    "#df=df.sample(5000).reset_index(drop=True)"
   ]
  },
  {
   "cell_type": "code",
   "execution_count": 6,
   "id": "c82c3e87-e8d8-4ff1-b711-48c5dc8bf8fc",
   "metadata": {},
   "outputs": [
    {
     "name": "stdout",
     "output_type": "stream",
     "text": [
      "<class 'pandas.core.frame.DataFrame'>\n",
      "RangeIndex: 41157 entries, 0 to 41156\n",
      "Data columns (total 6 columns):\n",
      " #   Column         Non-Null Count  Dtype \n",
      "---  ------         --------------  ----- \n",
      " 0   UserName       41157 non-null  int64 \n",
      " 1   ScreenName     41157 non-null  int64 \n",
      " 2   Location       32567 non-null  object\n",
      " 3   TweetAt        41157 non-null  object\n",
      " 4   OriginalTweet  41157 non-null  object\n",
      " 5   Sentiment      41157 non-null  object\n",
      "dtypes: int64(2), object(4)\n",
      "memory usage: 1.9+ MB\n"
     ]
    }
   ],
   "source": [
    "df.info()"
   ]
  },
  {
   "cell_type": "code",
   "execution_count": 8,
   "id": "5f6a323f-8b97-475f-8cb8-39bd833baede",
   "metadata": {},
   "outputs": [
    {
     "data": {
      "text/plain": [
       "\"Was at the supermarket today. Didn't buy toilet paper. #Rebel\\r\\r\\n\\r\\r\\n#toiletpapercrisis #covid_19 https://t.co/eVXkQLIdAZ\""
      ]
     },
     "execution_count": 8,
     "metadata": {},
     "output_type": "execute_result"
    }
   ],
   "source": [
    "df['OriginalTweet'][7]\n"
   ]
  },
  {
   "cell_type": "code",
   "execution_count": 10,
   "id": "5e9d9802-7bd7-4164-983e-e5259ad2e756",
   "metadata": {},
   "outputs": [
    {
     "data": {
      "text/plain": [
       "'As news of the regionÂ\\x92s first confirmed COVID-19 case came out of Sullivan County last week, people flocked to area stores to purchase cleaning supplies, hand sanitizer, food, toilet paper and other goods, @Tim_Dodson reports https://t.co/cfXch7a2lU'"
      ]
     },
     "execution_count": 10,
     "metadata": {},
     "output_type": "execute_result"
    }
   ],
   "source": [
    "df['OriginalTweet'][5]"
   ]
  },
  {
   "cell_type": "code",
   "execution_count": 12,
   "id": "374abbcc-f556-42e6-9f64-5b651d66b8db",
   "metadata": {},
   "outputs": [
    {
     "data": {
      "text/plain": [
       "(41157, 6)"
      ]
     },
     "execution_count": 12,
     "metadata": {},
     "output_type": "execute_result"
    }
   ],
   "source": [
    "df.shape"
   ]
  },
  {
   "cell_type": "code",
   "execution_count": 14,
   "id": "0fd578bd-78f6-429d-a1d4-e672ac905861",
   "metadata": {},
   "outputs": [
    {
     "data": {
      "text/plain": [
       "Sentiment\n",
       "Positive              0.277523\n",
       "Negative              0.240955\n",
       "Neutral               0.187404\n",
       "Extremely Positive    0.160945\n",
       "Extremely Negative    0.133173\n",
       "Name: proportion, dtype: float64"
      ]
     },
     "execution_count": 14,
     "metadata": {},
     "output_type": "execute_result"
    }
   ],
   "source": [
    "df.Sentiment.value_counts(normalize=True)"
   ]
  },
  {
   "cell_type": "code",
   "execution_count": 16,
   "id": "fe478c09-00ad-4aca-a95e-d38328e474db",
   "metadata": {},
   "outputs": [],
   "source": [
    "import seaborn as sns\n",
    "import matplotlib.pyplot as plt"
   ]
  },
  {
   "cell_type": "code",
   "execution_count": null,
   "id": "c090c0bf-8bf9-497a-80d3-8abb1b712b9e",
   "metadata": {},
   "outputs": [],
   "source": [
    "# Text Classification\n",
    "'''\n",
    "Confusion matrix\n",
    "\n",
    "precsion / recall / f1-score\n",
    "\n",
    "auc-roc scores\n",
    "\n",
    "accuracy\n",
    "\n",
    "train data or test data\n",
    "\n",
    "i have build a model having f1-score 0.7 .\n",
    "\n",
    "'''"
   ]
  },
  {
   "cell_type": "code",
   "execution_count": 18,
   "id": "4228de2a-3165-4ad0-820d-40f0f65e1a3c",
   "metadata": {},
   "outputs": [
    {
     "data": {
      "text/plain": [
       "Text(0.5, 1.0, 'Sentiment Distribution')"
      ]
     },
     "execution_count": 18,
     "metadata": {},
     "output_type": "execute_result"
    },
    {
     "data": {
      "image/png": "[encoded data removed]",
      "text/plain": [
       "<Figure size 640x480 with 1 Axes>"
      ]
     },
     "metadata": {},
     "output_type": "display_data"
    }
   ],
   "source": [
    "\n",
    "\n",
    "sns.countplot( data=df, x='Sentiment', order = ['Extremely Positive', 'Positive', 'Neutral', 'Negative', 'Extremely Negative'])\n",
    "plt.title(\"Sentiment Distribution\")"
   ]
  },
  {
   "cell_type": "code",
   "execution_count": 62,
   "id": "b39d7a02-d2ae-4d62-8ea4-ff46d54e1709",
   "metadata": {},
   "outputs": [],
   "source": [
    "df=df.reset_index(drop=True)\n",
    "dfs=df.sample(6000)\n",
    "dfs=dfs.reset_index(drop=True)"
   ]
  },
  {
   "cell_type": "code",
   "execution_count": 64,
   "id": "06e71208-016b-430e-90de-56ece6ebdde7",
   "metadata": {},
   "outputs": [
    {
     "name": "stderr",
     "output_type": "stream",
     "text": [
      "[nltk_data] Downloading package stopwords to\n",
      "[nltk_data]     C:\\Users\\visha\\AppData\\Roaming\\nltk_data...\n",
      "[nltk_data]   Package stopwords is already up-to-date!\n",
      "[nltk_data] Downloading package wordnet to\n",
      "[nltk_data]     C:\\Users\\visha\\AppData\\Roaming\\nltk_data...\n",
      "[nltk_data]   Package wordnet is already up-to-date!\n"
     ]
    }
   ],
   "source": [
    "import nltk\n",
    "from nltk.tokenize import word_tokenize\n",
    "from nltk.corpus import stopwords\n",
    "nltk.download('stopwords')\n",
    "nltk.download('wordnet')\n",
    "from nltk.stem import PorterStemmer\n",
    "import re \n",
    "\n",
    "stem=PorterStemmer()\n",
    "corpus = []\n",
    "\n"
   ]
  },
  {
   "cell_type": "code",
   "execution_count": 196,
   "id": "3987180a-b576-49a5-a4fc-acabdea91ee9",
   "metadata": {},
   "outputs": [
    {
     "data": {
      "text/html": [
       "<div>\n",
       "<style scoped>\n",
       "    .dataframe tbody tr th:only-of-type {\n",
       "        vertical-align: middle;\n",
       "    }\n",
       "\n",
       "    .dataframe tbody tr th {\n",
       "        vertical-align: top;\n",
       "    }\n",
       "\n",
       "    .dataframe thead th {\n",
       "        text-align: right;\n",
       "    }\n",
       "</style>\n",
       "<table border=\"1\" class=\"dataframe\">\n",
       "  <thead>\n",
       "    <tr style=\"text-align: right;\">\n",
       "      <th></th>\n",
       "      <th>UserName</th>\n",
       "      <th>ScreenName</th>\n",
       "      <th>Location</th>\n",
       "      <th>TweetAt</th>\n",
       "      <th>OriginalTweet</th>\n",
       "      <th>Sentiment</th>\n",
       "      <th>text</th>\n",
       "    </tr>\n",
       "  </thead>\n",
       "  <tbody>\n",
       "    <tr>\n",
       "      <th>0</th>\n",
       "      <td>43815</td>\n",
       "      <td>88767</td>\n",
       "      <td>Lima-PerÃº</td>\n",
       "      <td>13-04-2020</td>\n",
       "      <td>Private charter airlines set their own prices,...</td>\n",
       "      <td>Positive</td>\n",
       "      <td>privat charter airlin set price  gener higher ...</td>\n",
       "    </tr>\n",
       "    <tr>\n",
       "      <th>1</th>\n",
       "      <td>27581</td>\n",
       "      <td>72533</td>\n",
       "      <td>NaN</td>\n",
       "      <td>26-03-2020</td>\n",
       "      <td>So you ve lost your job    What support can yo...</td>\n",
       "      <td>Neutral</td>\n",
       "      <td>lost job    support appli   job appli   volunt...</td>\n",
       "    </tr>\n",
       "    <tr>\n",
       "      <th>2</th>\n",
       "      <td>25791</td>\n",
       "      <td>70743</td>\n",
       "      <td>Peterborough, England</td>\n",
       "      <td>25-03-2020</td>\n",
       "      <td>Good to see people still can't grasp stay at h...</td>\n",
       "      <td>Extremely Negative</td>\n",
       "      <td>good see peopl still grasp stay home  stupid t...</td>\n",
       "    </tr>\n",
       "    <tr>\n",
       "      <th>3</th>\n",
       "      <td>41869</td>\n",
       "      <td>86821</td>\n",
       "      <td>World</td>\n",
       "      <td>11-04-2020</td>\n",
       "      <td>By slowing people down inside a #supermarket b...</td>\n",
       "      <td>Extremely Positive</td>\n",
       "      <td>slow peopl insid  supermarket  socialdistanc g...</td>\n",
       "    </tr>\n",
       "    <tr>\n",
       "      <th>4</th>\n",
       "      <td>20800</td>\n",
       "      <td>65752</td>\n",
       "      <td>Nairobi Kenya</td>\n",
       "      <td>23-03-2020</td>\n",
       "      <td>The Competition Authority orders Cleanshelf Su...</td>\n",
       "      <td>Positive</td>\n",
       "      <td>competit author order cleanshelf supermarket r...</td>\n",
       "    </tr>\n",
       "    <tr>\n",
       "      <th>...</th>\n",
       "      <td>...</td>\n",
       "      <td>...</td>\n",
       "      <td>...</td>\n",
       "      <td>...</td>\n",
       "      <td>...</td>\n",
       "      <td>...</td>\n",
       "      <td>...</td>\n",
       "    </tr>\n",
       "    <tr>\n",
       "      <th>5995</th>\n",
       "      <td>10587</td>\n",
       "      <td>55539</td>\n",
       "      <td>New Jersey, USA</td>\n",
       "      <td>19-03-2020</td>\n",
       "      <td>#Coronavirus &amp;amp; #COVID-19 Updates - Consume...</td>\n",
       "      <td>Neutral</td>\n",
       "      <td>coronaviru  amp   covid    updat   consum rep...</td>\n",
       "    </tr>\n",
       "    <tr>\n",
       "      <th>5996</th>\n",
       "      <td>22504</td>\n",
       "      <td>67456</td>\n",
       "      <td>NaN</td>\n",
       "      <td>23-03-2020</td>\n",
       "      <td>@HM_Simmons Still plenty of sandpaper availabl...</td>\n",
       "      <td>Neutral</td>\n",
       "      <td>hm simmon still plenti sandpap avail home dep...</td>\n",
       "    </tr>\n",
       "    <tr>\n",
       "      <th>5997</th>\n",
       "      <td>36840</td>\n",
       "      <td>81792</td>\n",
       "      <td>United States</td>\n",
       "      <td>07-04-2020</td>\n",
       "      <td>@elcompanies Impressive array of global assist...</td>\n",
       "      <td>Extremely Positive</td>\n",
       "      <td>elcompani impress array global assist effort ...</td>\n",
       "    </tr>\n",
       "    <tr>\n",
       "      <th>5998</th>\n",
       "      <td>36896</td>\n",
       "      <td>81848</td>\n",
       "      <td>China. The Netherlands.</td>\n",
       "      <td>07-04-2020</td>\n",
       "      <td>#Chinese #magnesium prices fell to the lowest ...</td>\n",
       "      <td>Negative</td>\n",
       "      <td>chines  magnesium price fell lowest level   y...</td>\n",
       "    </tr>\n",
       "    <tr>\n",
       "      <th>5999</th>\n",
       "      <td>23976</td>\n",
       "      <td>68928</td>\n",
       "      <td>Washington, DC</td>\n",
       "      <td>24-03-2020</td>\n",
       "      <td>Fun way to spot #coronavirus scams  Use the #F...</td>\n",
       "      <td>Extremely Negative</td>\n",
       "      <td>fun way spot  coronaviru scam  use  ftc scam b...</td>\n",
       "    </tr>\n",
       "  </tbody>\n",
       "</table>\n",
       "<p>6000 rows × 7 columns</p>\n",
       "</div>"
      ],
      "text/plain": [
       "      UserName  ScreenName                  Location     TweetAt  \\\n",
       "0        43815       88767                Lima-PerÃº  13-04-2020   \n",
       "1        27581       72533                       NaN  26-03-2020   \n",
       "2        25791       70743     Peterborough, England  25-03-2020   \n",
       "3        41869       86821                     World  11-04-2020   \n",
       "4        20800       65752             Nairobi Kenya  23-03-2020   \n",
       "...        ...         ...                       ...         ...   \n",
       "5995     10587       55539           New Jersey, USA  19-03-2020   \n",
       "5996     22504       67456                       NaN  23-03-2020   \n",
       "5997     36840       81792             United States  07-04-2020   \n",
       "5998     36896       81848  China. The Netherlands.   07-04-2020   \n",
       "5999     23976       68928            Washington, DC  24-03-2020   \n",
       "\n",
       "                                          OriginalTweet           Sentiment  \\\n",
       "0     Private charter airlines set their own prices,...            Positive   \n",
       "1     So you ve lost your job    What support can yo...             Neutral   \n",
       "2     Good to see people still can't grasp stay at h...  Extremely Negative   \n",
       "3     By slowing people down inside a #supermarket b...  Extremely Positive   \n",
       "4     The Competition Authority orders Cleanshelf Su...            Positive   \n",
       "...                                                 ...                 ...   \n",
       "5995  #Coronavirus &amp; #COVID-19 Updates - Consume...             Neutral   \n",
       "5996  @HM_Simmons Still plenty of sandpaper availabl...             Neutral   \n",
       "5997  @elcompanies Impressive array of global assist...  Extremely Positive   \n",
       "5998  #Chinese #magnesium prices fell to the lowest ...            Negative   \n",
       "5999  Fun way to spot #coronavirus scams  Use the #F...  Extremely Negative   \n",
       "\n",
       "                                                   text  \n",
       "0     privat charter airlin set price  gener higher ...  \n",
       "1     lost job    support appli   job appli   volunt...  \n",
       "2     good see peopl still grasp stay home  stupid t...  \n",
       "3     slow peopl insid  supermarket  socialdistanc g...  \n",
       "4     competit author order cleanshelf supermarket r...  \n",
       "...                                                 ...  \n",
       "5995   coronaviru  amp   covid    updat   consum rep...  \n",
       "5996   hm simmon still plenti sandpap avail home dep...  \n",
       "5997   elcompani impress array global assist effort ...  \n",
       "5998   chines  magnesium price fell lowest level   y...  \n",
       "5999  fun way spot  coronaviru scam  use  ftc scam b...  \n",
       "\n",
       "[6000 rows x 7 columns]"
      ]
     },
     "execution_count": 196,
     "metadata": {},
     "output_type": "execute_result"
    }
   ],
   "source": [
    "dfs"
   ]
  },
  {
   "cell_type": "code",
   "execution_count": 66,
   "id": "6fb72d65-79a6-4ffc-9d4a-76be8adef92e",
   "metadata": {},
   "outputs": [],
   "source": [
    "corpus1 = []\n",
    "text = dfs.OriginalTweet\n",
    "for i in range(len(text)):\n",
    "\n",
    "    r = re.sub('[^a-zA-Z]', ' ', text[i])\n",
    "\n",
    "    r = r.lower()\n",
    "\n",
    "\n",
    "    corpus1.append(r)\n"
   ]
  },
  {
   "cell_type": "code",
   "execution_count": 68,
   "id": "bc13a5ee-6827-4d9a-9fd1-c67d72cd88b3",
   "metadata": {},
   "outputs": [],
   "source": [
    "corpus = []\n",
    "text = df.OriginalTweet\n",
    "for i in range(len(corpus1)):\n",
    "    r = corpus1[i].split(\" \")\n",
    "    r = [word for word in r if word not in stopwords.words('english')]\n",
    "    r = [stem.stem(word) for word in r]\n",
    "    r = \" \".join(r)\n",
    "    corpus.append(r)\n"
   ]
  },
  {
   "cell_type": "code",
   "execution_count": 70,
   "id": "d64ee461-0aa0-4665-90f2-5036311799d0",
   "metadata": {},
   "outputs": [
    {
     "data": {
      "text/html": [
       "<div>\n",
       "<style scoped>\n",
       "    .dataframe tbody tr th:only-of-type {\n",
       "        vertical-align: middle;\n",
       "    }\n",
       "\n",
       "    .dataframe tbody tr th {\n",
       "        vertical-align: top;\n",
       "    }\n",
       "\n",
       "    .dataframe thead th {\n",
       "        text-align: right;\n",
       "    }\n",
       "</style>\n",
       "<table border=\"1\" class=\"dataframe\">\n",
       "  <thead>\n",
       "    <tr style=\"text-align: right;\">\n",
       "      <th></th>\n",
       "      <th>UserName</th>\n",
       "      <th>ScreenName</th>\n",
       "      <th>Location</th>\n",
       "      <th>TweetAt</th>\n",
       "      <th>OriginalTweet</th>\n",
       "      <th>Sentiment</th>\n",
       "      <th>text</th>\n",
       "    </tr>\n",
       "  </thead>\n",
       "  <tbody>\n",
       "    <tr>\n",
       "      <th>0</th>\n",
       "      <td>43815</td>\n",
       "      <td>88767</td>\n",
       "      <td>Lima-PerÃº</td>\n",
       "      <td>13-04-2020</td>\n",
       "      <td>Private charter airlines set their own prices,...</td>\n",
       "      <td>Positive</td>\n",
       "      <td>privat charter airlin set price  gener higher ...</td>\n",
       "    </tr>\n",
       "    <tr>\n",
       "      <th>1</th>\n",
       "      <td>27581</td>\n",
       "      <td>72533</td>\n",
       "      <td>NaN</td>\n",
       "      <td>26-03-2020</td>\n",
       "      <td>So you ve lost your job    What support can yo...</td>\n",
       "      <td>Neutral</td>\n",
       "      <td>lost job    support appli   job appli   volunt...</td>\n",
       "    </tr>\n",
       "    <tr>\n",
       "      <th>2</th>\n",
       "      <td>25791</td>\n",
       "      <td>70743</td>\n",
       "      <td>Peterborough, England</td>\n",
       "      <td>25-03-2020</td>\n",
       "      <td>Good to see people still can't grasp stay at h...</td>\n",
       "      <td>Extremely Negative</td>\n",
       "      <td>good see peopl still grasp stay home  stupid t...</td>\n",
       "    </tr>\n",
       "    <tr>\n",
       "      <th>3</th>\n",
       "      <td>41869</td>\n",
       "      <td>86821</td>\n",
       "      <td>World</td>\n",
       "      <td>11-04-2020</td>\n",
       "      <td>By slowing people down inside a #supermarket b...</td>\n",
       "      <td>Extremely Positive</td>\n",
       "      <td>slow peopl insid  supermarket  socialdistanc g...</td>\n",
       "    </tr>\n",
       "    <tr>\n",
       "      <th>4</th>\n",
       "      <td>20800</td>\n",
       "      <td>65752</td>\n",
       "      <td>Nairobi Kenya</td>\n",
       "      <td>23-03-2020</td>\n",
       "      <td>The Competition Authority orders Cleanshelf Su...</td>\n",
       "      <td>Positive</td>\n",
       "      <td>competit author order cleanshelf supermarket r...</td>\n",
       "    </tr>\n",
       "  </tbody>\n",
       "</table>\n",
       "</div>"
      ],
      "text/plain": [
       "   UserName  ScreenName               Location     TweetAt  \\\n",
       "0     43815       88767             Lima-PerÃº  13-04-2020   \n",
       "1     27581       72533                    NaN  26-03-2020   \n",
       "2     25791       70743  Peterborough, England  25-03-2020   \n",
       "3     41869       86821                  World  11-04-2020   \n",
       "4     20800       65752          Nairobi Kenya  23-03-2020   \n",
       "\n",
       "                                       OriginalTweet           Sentiment  \\\n",
       "0  Private charter airlines set their own prices,...            Positive   \n",
       "1  So you ve lost your job    What support can yo...             Neutral   \n",
       "2  Good to see people still can't grasp stay at h...  Extremely Negative   \n",
       "3  By slowing people down inside a #supermarket b...  Extremely Positive   \n",
       "4  The Competition Authority orders Cleanshelf Su...            Positive   \n",
       "\n",
       "                                                text  \n",
       "0  privat charter airlin set price  gener higher ...  \n",
       "1  lost job    support appli   job appli   volunt...  \n",
       "2  good see peopl still grasp stay home  stupid t...  \n",
       "3  slow peopl insid  supermarket  socialdistanc g...  \n",
       "4  competit author order cleanshelf supermarket r...  "
      ]
     },
     "execution_count": 70,
     "metadata": {},
     "output_type": "execute_result"
    }
   ],
   "source": [
    "dfs['text'] = corpus\n",
    "\n",
    "dfs.head()"
   ]
  },
  {
   "cell_type": "code",
   "execution_count": 72,
   "id": "c41a7d86-ea13-4ba1-bd70-f9bd18383ded",
   "metadata": {},
   "outputs": [
    {
     "data": {
      "text/html": [
       "<div>\n",
       "<style scoped>\n",
       "    .dataframe tbody tr th:only-of-type {\n",
       "        vertical-align: middle;\n",
       "    }\n",
       "\n",
       "    .dataframe tbody tr th {\n",
       "        vertical-align: top;\n",
       "    }\n",
       "\n",
       "    .dataframe thead th {\n",
       "        text-align: right;\n",
       "    }\n",
       "</style>\n",
       "<table border=\"1\" class=\"dataframe\">\n",
       "  <thead>\n",
       "    <tr style=\"text-align: right;\">\n",
       "      <th></th>\n",
       "      <th>UserName</th>\n",
       "      <th>ScreenName</th>\n",
       "      <th>Location</th>\n",
       "      <th>TweetAt</th>\n",
       "      <th>OriginalTweet</th>\n",
       "      <th>Sentiment</th>\n",
       "      <th>text</th>\n",
       "    </tr>\n",
       "  </thead>\n",
       "  <tbody>\n",
       "    <tr>\n",
       "      <th>0</th>\n",
       "      <td>43815</td>\n",
       "      <td>88767</td>\n",
       "      <td>Lima-PerÃº</td>\n",
       "      <td>13-04-2020</td>\n",
       "      <td>Private charter airlines set their own prices,...</td>\n",
       "      <td>Positive</td>\n",
       "      <td>privat charter airlin set price  gener higher ...</td>\n",
       "    </tr>\n",
       "    <tr>\n",
       "      <th>1</th>\n",
       "      <td>27581</td>\n",
       "      <td>72533</td>\n",
       "      <td>NaN</td>\n",
       "      <td>26-03-2020</td>\n",
       "      <td>So you ve lost your job    What support can yo...</td>\n",
       "      <td>Neutral</td>\n",
       "      <td>lost job    support appli   job appli   volunt...</td>\n",
       "    </tr>\n",
       "    <tr>\n",
       "      <th>2</th>\n",
       "      <td>25791</td>\n",
       "      <td>70743</td>\n",
       "      <td>Peterborough, England</td>\n",
       "      <td>25-03-2020</td>\n",
       "      <td>Good to see people still can't grasp stay at h...</td>\n",
       "      <td>Extremely Negative</td>\n",
       "      <td>good see peopl still grasp stay home  stupid t...</td>\n",
       "    </tr>\n",
       "    <tr>\n",
       "      <th>3</th>\n",
       "      <td>41869</td>\n",
       "      <td>86821</td>\n",
       "      <td>World</td>\n",
       "      <td>11-04-2020</td>\n",
       "      <td>By slowing people down inside a #supermarket b...</td>\n",
       "      <td>Extremely Positive</td>\n",
       "      <td>slow peopl insid  supermarket  socialdistanc g...</td>\n",
       "    </tr>\n",
       "    <tr>\n",
       "      <th>4</th>\n",
       "      <td>20800</td>\n",
       "      <td>65752</td>\n",
       "      <td>Nairobi Kenya</td>\n",
       "      <td>23-03-2020</td>\n",
       "      <td>The Competition Authority orders Cleanshelf Su...</td>\n",
       "      <td>Positive</td>\n",
       "      <td>competit author order cleanshelf supermarket r...</td>\n",
       "    </tr>\n",
       "    <tr>\n",
       "      <th>...</th>\n",
       "      <td>...</td>\n",
       "      <td>...</td>\n",
       "      <td>...</td>\n",
       "      <td>...</td>\n",
       "      <td>...</td>\n",
       "      <td>...</td>\n",
       "      <td>...</td>\n",
       "    </tr>\n",
       "    <tr>\n",
       "      <th>5995</th>\n",
       "      <td>10587</td>\n",
       "      <td>55539</td>\n",
       "      <td>New Jersey, USA</td>\n",
       "      <td>19-03-2020</td>\n",
       "      <td>#Coronavirus &amp;amp; #COVID-19 Updates - Consume...</td>\n",
       "      <td>Neutral</td>\n",
       "      <td>coronaviru  amp   covid    updat   consum rep...</td>\n",
       "    </tr>\n",
       "    <tr>\n",
       "      <th>5996</th>\n",
       "      <td>22504</td>\n",
       "      <td>67456</td>\n",
       "      <td>NaN</td>\n",
       "      <td>23-03-2020</td>\n",
       "      <td>@HM_Simmons Still plenty of sandpaper availabl...</td>\n",
       "      <td>Neutral</td>\n",
       "      <td>hm simmon still plenti sandpap avail home dep...</td>\n",
       "    </tr>\n",
       "    <tr>\n",
       "      <th>5997</th>\n",
       "      <td>36840</td>\n",
       "      <td>81792</td>\n",
       "      <td>United States</td>\n",
       "      <td>07-04-2020</td>\n",
       "      <td>@elcompanies Impressive array of global assist...</td>\n",
       "      <td>Extremely Positive</td>\n",
       "      <td>elcompani impress array global assist effort ...</td>\n",
       "    </tr>\n",
       "    <tr>\n",
       "      <th>5998</th>\n",
       "      <td>36896</td>\n",
       "      <td>81848</td>\n",
       "      <td>China. The Netherlands.</td>\n",
       "      <td>07-04-2020</td>\n",
       "      <td>#Chinese #magnesium prices fell to the lowest ...</td>\n",
       "      <td>Negative</td>\n",
       "      <td>chines  magnesium price fell lowest level   y...</td>\n",
       "    </tr>\n",
       "    <tr>\n",
       "      <th>5999</th>\n",
       "      <td>23976</td>\n",
       "      <td>68928</td>\n",
       "      <td>Washington, DC</td>\n",
       "      <td>24-03-2020</td>\n",
       "      <td>Fun way to spot #coronavirus scams  Use the #F...</td>\n",
       "      <td>Extremely Negative</td>\n",
       "      <td>fun way spot  coronaviru scam  use  ftc scam b...</td>\n",
       "    </tr>\n",
       "  </tbody>\n",
       "</table>\n",
       "<p>6000 rows × 7 columns</p>\n",
       "</div>"
      ],
      "text/plain": [
       "      UserName  ScreenName                  Location     TweetAt  \\\n",
       "0        43815       88767                Lima-PerÃº  13-04-2020   \n",
       "1        27581       72533                       NaN  26-03-2020   \n",
       "2        25791       70743     Peterborough, England  25-03-2020   \n",
       "3        41869       86821                     World  11-04-2020   \n",
       "4        20800       65752             Nairobi Kenya  23-03-2020   \n",
       "...        ...         ...                       ...         ...   \n",
       "5995     10587       55539           New Jersey, USA  19-03-2020   \n",
       "5996     22504       67456                       NaN  23-03-2020   \n",
       "5997     36840       81792             United States  07-04-2020   \n",
       "5998     36896       81848  China. The Netherlands.   07-04-2020   \n",
       "5999     23976       68928            Washington, DC  24-03-2020   \n",
       "\n",
       "                                          OriginalTweet           Sentiment  \\\n",
       "0     Private charter airlines set their own prices,...            Positive   \n",
       "1     So you ve lost your job    What support can yo...             Neutral   \n",
       "2     Good to see people still can't grasp stay at h...  Extremely Negative   \n",
       "3     By slowing people down inside a #supermarket b...  Extremely Positive   \n",
       "4     The Competition Authority orders Cleanshelf Su...            Positive   \n",
       "...                                                 ...                 ...   \n",
       "5995  #Coronavirus &amp; #COVID-19 Updates - Consume...             Neutral   \n",
       "5996  @HM_Simmons Still plenty of sandpaper availabl...             Neutral   \n",
       "5997  @elcompanies Impressive array of global assist...  Extremely Positive   \n",
       "5998  #Chinese #magnesium prices fell to the lowest ...            Negative   \n",
       "5999  Fun way to spot #coronavirus scams  Use the #F...  Extremely Negative   \n",
       "\n",
       "                                                   text  \n",
       "0     privat charter airlin set price  gener higher ...  \n",
       "1     lost job    support appli   job appli   volunt...  \n",
       "2     good see peopl still grasp stay home  stupid t...  \n",
       "3     slow peopl insid  supermarket  socialdistanc g...  \n",
       "4     competit author order cleanshelf supermarket r...  \n",
       "...                                                 ...  \n",
       "5995   coronaviru  amp   covid    updat   consum rep...  \n",
       "5996   hm simmon still plenti sandpap avail home dep...  \n",
       "5997   elcompani impress array global assist effort ...  \n",
       "5998   chines  magnesium price fell lowest level   y...  \n",
       "5999  fun way spot  coronaviru scam  use  ftc scam b...  \n",
       "\n",
       "[6000 rows x 7 columns]"
      ]
     },
     "execution_count": 72,
     "metadata": {},
     "output_type": "execute_result"
    }
   ],
   "source": [
    "dfs"
   ]
  },
  {
   "cell_type": "code",
   "execution_count": 74,
   "id": "f6a53b8b-c0f2-4e7f-bf5d-3dacee7cd804",
   "metadata": {},
   "outputs": [],
   "source": [
    "\n",
    "X = dfs['text']\n",
    "\n",
    "y = dfs['Sentiment']"
   ]
  },
  {
   "cell_type": "code",
   "execution_count": 76,
   "id": "5492a463-cb4f-4cba-97c3-d8ae425da99d",
   "metadata": {},
   "outputs": [
    {
     "data": {
      "text/plain": [
       "0                 Positive\n",
       "1                  Neutral\n",
       "2       Extremely Negative\n",
       "3       Extremely Positive\n",
       "4                 Positive\n",
       "               ...        \n",
       "5995               Neutral\n",
       "5996               Neutral\n",
       "5997    Extremely Positive\n",
       "5998              Negative\n",
       "5999    Extremely Negative\n",
       "Name: Sentiment, Length: 6000, dtype: object"
      ]
     },
     "execution_count": 76,
     "metadata": {},
     "output_type": "execute_result"
    }
   ],
   "source": [
    "y"
   ]
  },
  {
   "cell_type": "code",
   "execution_count": 78,
   "id": "94b255fb-6192-4f1c-a3f1-5be2d302e2da",
   "metadata": {},
   "outputs": [
    {
     "name": "stdout",
     "output_type": "stream",
     "text": [
      "[4 3 0 ... 1 2 0]\n"
     ]
    }
   ],
   "source": [
    "from sklearn.preprocessing import LabelEncoder\n",
    "\n",
    "# Example target column\n",
    "\n",
    "# Initialize and apply label encoder\n",
    "le = LabelEncoder()\n",
    "y_encoded = le.fit_transform(y)\n",
    "\n",
    "# View encoded labels\n",
    "print(y_encoded)  # Output: [0, 1, 0, 2]\n",
    "\n"
   ]
  },
  {
   "cell_type": "code",
   "execution_count": 80,
   "id": "78d99906-512b-4f22-9598-99d7be0c5812",
   "metadata": {},
   "outputs": [
    {
     "name": "stdout",
     "output_type": "stream",
     "text": [
      "Training Data : (4500,)\n",
      "Testing Data :  (1500,)\n"
     ]
    }
   ],
   "source": [
    "from sklearn.model_selection import train_test_split\n",
    "\n",
    "X_train, X_test, y_train, y_test = train_test_split(X, y_encoded, test_size=0.25, random_state=123,stratify=y)\n",
    "\n",
    "\n",
    "\n",
    "\n",
    "print('Training Data :', X_train.shape)\n",
    "\n",
    "print('Testing Data : ', X_test.shape)"
   ]
  },
  {
   "cell_type": "code",
   "execution_count": 84,
   "id": "88f304f4-48b6-4bc1-92e1-4e671e6eb1fb",
   "metadata": {},
   "outputs": [
    {
     "data": {
      "text/plain": [
       "array([4, 4, 0, ..., 4, 2, 4])"
      ]
     },
     "execution_count": 84,
     "metadata": {},
     "output_type": "execute_result"
    }
   ],
   "source": [
    "y_train#.value_counts(normalize=True)\n"
   ]
  },
  {
   "cell_type": "code",
   "execution_count": 305,
   "id": "e8e9a1dd-756e-4706-93db-e238f9c2711b",
   "metadata": {},
   "outputs": [
    {
     "data": {
      "text/plain": [
       "Sentiment\n",
       "Positive              0.2744\n",
       "Negative              0.2376\n",
       "Neutral               0.1912\n",
       "Extremely Positive    0.1672\n",
       "Extremely Negative    0.1296\n",
       "Name: proportion, dtype: float64"
      ]
     },
     "execution_count": 305,
     "metadata": {},
     "output_type": "execute_result"
    }
   ],
   "source": [
    "y_test.value_counts(normalize=True)\n"
   ]
  },
  {
   "cell_type": "code",
   "execution_count": 7,
   "id": "a017a922-8d21-445a-ade4-fab6896932dc",
   "metadata": {},
   "outputs": [
    {
     "ename": "NameError",
     "evalue": "name 'X_train' is not defined",
     "output_type": "error",
     "traceback": [
      "\u001b[1;31m---------------------------------------------------------------------------\u001b[0m",
      "\u001b[1;31mNameError\u001b[0m                                 Traceback (most recent call last)",
      "Cell \u001b[1;32mIn[7], line 1\u001b[0m\n\u001b[1;32m----> 1\u001b[0m X_train\n",
      "\u001b[1;31mNameError\u001b[0m: name 'X_train' is not defined"
     ]
    }
   ],
   "source": [
    "X_train"
   ]
  },
  {
   "cell_type": "code",
   "execution_count": 75,
   "id": "bfaf7d65-a98d-4147-93e4-e7b3d3f79cbf",
   "metadata": {},
   "outputs": [
    {
     "ename": "NameError",
     "evalue": "name 'report_df' is not defined",
     "output_type": "error",
     "traceback": [
      "\u001b[1;31m---------------------------------------------------------------------------\u001b[0m",
      "\u001b[1;31mNameError\u001b[0m                                 Traceback (most recent call last)",
      "Cell \u001b[1;32mIn[75], line 1\u001b[0m\n\u001b[1;32m----> 1\u001b[0m report_df\n",
      "\u001b[1;31mNameError\u001b[0m: name 'report_df' is not defined"
     ]
    }
   ],
   "source": []
  },
  {
   "cell_type": "code",
   "execution_count": 86,
   "id": "6d686cd3-890f-4eff-8aec-0b13f9639a96",
   "metadata": {},
   "outputs": [],
   "source": [
    "max_len = 40\n",
    "vocab_size = 5000"
   ]
  },
  {
   "cell_type": "code",
   "execution_count": 140,
   "id": "0d8a68b0-b00e-45b4-a769-71e1ed015c1e",
   "metadata": {},
   "outputs": [],
   "source": [
    "import numpy as np\n",
    "import pandas as pd\n",
    "import tensorflow\n",
    "from tensorflow.keras.preprocessing.text import Tokenizer\n",
    "from tensorflow.keras.preprocessing.sequence import pad_sequences\n",
    "from tensorflow.keras.models import Sequential\n",
    "from tensorflow.keras.layers import Embedding, Dense, Flatten,Input,Dropout,LSTM\n",
    "from sklearn.model_selection import train_test_split\n",
    "from sklearn.preprocessing import LabelEncoder"
   ]
  },
  {
   "cell_type": "code",
   "execution_count": 214,
   "id": "47888cc8-101c-4c3e-b206-922bfa229507",
   "metadata": {},
   "outputs": [
    {
     "data": {
      "text/html": [
       "<pre style=\"white-space:pre;overflow-x:auto;line-height:normal;font-family:Menlo,'DejaVu Sans Mono',consolas,'Courier New',monospace\"><span style=\"font-weight: bold\">Model: \"sequential_10\"</span>\n",
       "</pre>\n"
      ],
      "text/plain": [
       "\u001b[1mModel: \"sequential_10\"\u001b[0m\n"
      ]
     },
     "metadata": {},
     "output_type": "display_data"
    },
    {
     "data": {
      "text/html": [
       "<pre style=\"white-space:pre;overflow-x:auto;line-height:normal;font-family:Menlo,'DejaVu Sans Mono',consolas,'Courier New',monospace\">┏━━━━━━━━━━━━━━━━━━━━━━━━━━━━━━━━━┳━━━━━━━━━━━━━━━━━━━━━━━━┳━━━━━━━━━━━━━━━┓\n",
       "┃<span style=\"font-weight: bold\"> Layer (type)                    </span>┃<span style=\"font-weight: bold\"> Output Shape           </span>┃<span style=\"font-weight: bold\">       Param # </span>┃\n",
       "┡━━━━━━━━━━━━━━━━━━━━━━━━━━━━━━━━━╇━━━━━━━━━━━━━━━━━━━━━━━━╇━━━━━━━━━━━━━━━┩\n",
       "│ embedding_11 (<span style=\"color: #0087ff; text-decoration-color: #0087ff\">Embedding</span>)        │ (<span style=\"color: #00d7ff; text-decoration-color: #00d7ff\">None</span>, <span style=\"color: #00af00; text-decoration-color: #00af00\">70</span>, <span style=\"color: #00af00; text-decoration-color: #00af00\">64</span>)         │       <span style=\"color: #00af00; text-decoration-color: #00af00\">640,000</span> │\n",
       "├─────────────────────────────────┼────────────────────────┼───────────────┤\n",
       "│ flatten_8 (<span style=\"color: #0087ff; text-decoration-color: #0087ff\">Flatten</span>)             │ (<span style=\"color: #00d7ff; text-decoration-color: #00d7ff\">None</span>, <span style=\"color: #00af00; text-decoration-color: #00af00\">4480</span>)           │             <span style=\"color: #00af00; text-decoration-color: #00af00\">0</span> │\n",
       "├─────────────────────────────────┼────────────────────────┼───────────────┤\n",
       "│ dropout_10 (<span style=\"color: #0087ff; text-decoration-color: #0087ff\">Dropout</span>)            │ (<span style=\"color: #00d7ff; text-decoration-color: #00d7ff\">None</span>, <span style=\"color: #00af00; text-decoration-color: #00af00\">4480</span>)           │             <span style=\"color: #00af00; text-decoration-color: #00af00\">0</span> │\n",
       "├─────────────────────────────────┼────────────────────────┼───────────────┤\n",
       "│ dense_27 (<span style=\"color: #0087ff; text-decoration-color: #0087ff\">Dense</span>)                │ (<span style=\"color: #00d7ff; text-decoration-color: #00d7ff\">None</span>, <span style=\"color: #00af00; text-decoration-color: #00af00\">16</span>)             │        <span style=\"color: #00af00; text-decoration-color: #00af00\">71,696</span> │\n",
       "├─────────────────────────────────┼────────────────────────┼───────────────┤\n",
       "│ dense_28 (<span style=\"color: #0087ff; text-decoration-color: #0087ff\">Dense</span>)                │ (<span style=\"color: #00d7ff; text-decoration-color: #00d7ff\">None</span>, <span style=\"color: #00af00; text-decoration-color: #00af00\">5</span>)              │            <span style=\"color: #00af00; text-decoration-color: #00af00\">85</span> │\n",
       "└─────────────────────────────────┴────────────────────────┴───────────────┘\n",
       "</pre>\n"
      ],
      "text/plain": [
       "┏━━━━━━━━━━━━━━━━━━━━━━━━━━━━━━━━━┳━━━━━━━━━━━━━━━━━━━━━━━━┳━━━━━━━━━━━━━━━┓\n",
       "┃\u001b[1m \u001b[0m\u001b[1mLayer (type)                   \u001b[0m\u001b[1m \u001b[0m┃\u001b[1m \u001b[0m\u001b[1mOutput Shape          \u001b[0m\u001b[1m \u001b[0m┃\u001b[1m \u001b[0m\u001b[1m      Param #\u001b[0m\u001b[1m \u001b[0m┃\n",
       "┡━━━━━━━━━━━━━━━━━━━━━━━━━━━━━━━━━╇━━━━━━━━━━━━━━━━━━━━━━━━╇━━━━━━━━━━━━━━━┩\n",
       "│ embedding_11 (\u001b[38;5;33mEmbedding\u001b[0m)        │ (\u001b[38;5;45mNone\u001b[0m, \u001b[38;5;34m70\u001b[0m, \u001b[38;5;34m64\u001b[0m)         │       \u001b[38;5;34m640,000\u001b[0m │\n",
       "├─────────────────────────────────┼────────────────────────┼───────────────┤\n",
       "│ flatten_8 (\u001b[38;5;33mFlatten\u001b[0m)             │ (\u001b[38;5;45mNone\u001b[0m, \u001b[38;5;34m4480\u001b[0m)           │             \u001b[38;5;34m0\u001b[0m │\n",
       "├─────────────────────────────────┼────────────────────────┼───────────────┤\n",
       "│ dropout_10 (\u001b[38;5;33mDropout\u001b[0m)            │ (\u001b[38;5;45mNone\u001b[0m, \u001b[38;5;34m4480\u001b[0m)           │             \u001b[38;5;34m0\u001b[0m │\n",
       "├─────────────────────────────────┼────────────────────────┼───────────────┤\n",
       "│ dense_27 (\u001b[38;5;33mDense\u001b[0m)                │ (\u001b[38;5;45mNone\u001b[0m, \u001b[38;5;34m16\u001b[0m)             │        \u001b[38;5;34m71,696\u001b[0m │\n",
       "├─────────────────────────────────┼────────────────────────┼───────────────┤\n",
       "│ dense_28 (\u001b[38;5;33mDense\u001b[0m)                │ (\u001b[38;5;45mNone\u001b[0m, \u001b[38;5;34m5\u001b[0m)              │            \u001b[38;5;34m85\u001b[0m │\n",
       "└─────────────────────────────────┴────────────────────────┴───────────────┘\n"
      ]
     },
     "metadata": {},
     "output_type": "display_data"
    },
    {
     "data": {
      "text/html": [
       "<pre style=\"white-space:pre;overflow-x:auto;line-height:normal;font-family:Menlo,'DejaVu Sans Mono',consolas,'Courier New',monospace\"><span style=\"font-weight: bold\"> Total params: </span><span style=\"color: #00af00; text-decoration-color: #00af00\">711,781</span> (2.72 MB)\n",
       "</pre>\n"
      ],
      "text/plain": [
       "\u001b[1m Total params: \u001b[0m\u001b[38;5;34m711,781\u001b[0m (2.72 MB)\n"
      ]
     },
     "metadata": {},
     "output_type": "display_data"
    },
    {
     "data": {
      "text/html": [
       "<pre style=\"white-space:pre;overflow-x:auto;line-height:normal;font-family:Menlo,'DejaVu Sans Mono',consolas,'Courier New',monospace\"><span style=\"font-weight: bold\"> Trainable params: </span><span style=\"color: #00af00; text-decoration-color: #00af00\">711,781</span> (2.72 MB)\n",
       "</pre>\n"
      ],
      "text/plain": [
       "\u001b[1m Trainable params: \u001b[0m\u001b[38;5;34m711,781\u001b[0m (2.72 MB)\n"
      ]
     },
     "metadata": {},
     "output_type": "display_data"
    },
    {
     "data": {
      "text/html": [
       "<pre style=\"white-space:pre;overflow-x:auto;line-height:normal;font-family:Menlo,'DejaVu Sans Mono',consolas,'Courier New',monospace\"><span style=\"font-weight: bold\"> Non-trainable params: </span><span style=\"color: #00af00; text-decoration-color: #00af00\">0</span> (0.00 B)\n",
       "</pre>\n"
      ],
      "text/plain": [
       "\u001b[1m Non-trainable params: \u001b[0m\u001b[38;5;34m0\u001b[0m (0.00 B)\n"
      ]
     },
     "metadata": {},
     "output_type": "display_data"
    }
   ],
   "source": [
    "model = Sequential([\n",
    "    Input(shape=(max_len,)),  # Define the input shape (max_len = 100)\n",
    "    # Embedding layer with vocab_size = 10000 and output_dim = 128\n",
    "    Embedding(input_dim=vocab_size, output_dim=64),\n",
    "    # Flatten the output of the embedding layer\n",
    "    Flatten(),   \n",
    "    Dropout(0.5),\n",
    "    # Dense layer for learning patterns in the data\n",
    "    Dense(16, activation='relu'),\n",
    "    # Output layer with softmax activation for multi-class classification\n",
    "    Dense(5, activation='softmax')  # Change 3 to the number of classes\n",
    "])\n",
    "\n",
    "# Compile the model\n",
    "model.compile(loss='sparse_categorical_crossentropy', \n",
    "              optimizer='adam', \n",
    "              metrics=['accuracy'])\n",
    "\n",
    "model.summary()"
   ]
  },
  {
   "cell_type": "code",
   "execution_count": null,
   "id": "7407c2e2-7d54-4a43-b116-fc2cd41ab858",
   "metadata": {},
   "outputs": [],
   "source": [
    "batch_size * len_sent * embedding_dim\n",
    "\n",
    "[ 32*64*70,1,1]"
   ]
  },
  {
   "cell_type": "code",
   "execution_count": null,
   "id": "3bdffefb-7047-468e-94e5-9b2e06efdbef",
   "metadata": {},
   "outputs": [],
   "source": [
    "fed covid lockdown\n",
    "10  3  9\n",
    "\n",
    "really appreciate support healthcare santitory department\n",
    "\n",
    "\n",
    "the department of police worked really caring support make thing streamline medice supply\n",
    "restore vaccinations are plenty\n",
    "102 304 12 45 390 61\n",
    "\n",
    "[102 304 12 45 390 61\n",
    " 10   3   9  0   0  0\n",
    "5   96 3  54  89  23 "
   ]
  },
  {
   "cell_type": "code",
   "execution_count": 198,
   "id": "0a44670e-8ff3-4b17-bae4-6dba7257d41d",
   "metadata": {},
   "outputs": [
    {
     "data": {
      "text/plain": [
       "[292,\n",
       " 534,\n",
       " 95,\n",
       " 272,\n",
       " 906,\n",
       " 263,\n",
       " 513,\n",
       " 110,\n",
       " 11,\n",
       " 453,\n",
       " 847,\n",
       " 907,\n",
       " 100,\n",
       " 11,\n",
       " 146,\n",
       " 1596,\n",
       " 64,\n",
       " 293,\n",
       " 30,\n",
       " 701,\n",
       " 416,\n",
       " 8,\n",
       " 136]"
      ]
     },
     "execution_count": 198,
     "metadata": {},
     "output_type": "execute_result"
    }
   ],
   "source": [
    "embeddings of word :\n",
    "each word converted to dense vector(list) of length embedding dimension\n",
    "\n",
    "\n",
    "male 78 [ ]"
   ]
  },
  {
   "cell_type": "code",
   "execution_count": 200,
   "id": "51613d23-f0d9-4c1b-bc4f-a27edc50a817",
   "metadata": {},
   "outputs": [
    {
     "data": {
      "text/plain": [
       "array([ 292,  534,   95,  272,  906,  263,  513,  110,   11,  453,  847,\n",
       "        907,  100,   11,  146, 1596,   64,  293,   30,  701,  416,    8,\n",
       "        136,    0,    0,    0,    0,    0,    0,    0,    0,    0,    0,\n",
       "          0,    0,    0,    0,    0,    0,    0,    0,    0,    0,    0,\n",
       "          0,    0,    0,    0,    0,    0,    0,    0,    0,    0,    0,\n",
       "          0,    0,    0,    0,    0,    0,    0,    0,    0,    0,    0,\n",
       "          0,    0,    0,    0])"
      ]
     },
     "execution_count": 200,
     "metadata": {},
     "output_type": "execute_result"
    }
   ],
   "source": [
    "X_train_padded[0]"
   ]
  },
  {
   "cell_type": "code",
   "execution_count": 156,
   "id": "1debe3a6-d9b8-464c-b0e8-a896264f08d4",
   "metadata": {},
   "outputs": [],
   "source": [
    "vocab_size = 10000  # Vocabulary size\n",
    "max_len = 70       # Maximum length of each tweet\n",
    "\n",
    "tokenizer = Tokenizer(num_words=vocab_size, oov_token=\"<OOV>\")\n",
    "tokenizer.fit_on_texts(X_train)\n",
    "\n",
    "X_train_seq = tokenizer.texts_to_sequences(X_train)\n",
    "X_test_seq = tokenizer.texts_to_sequences(X_test)\n",
    "\n",
    "# Pad sequences to ensure consistent input length\n",
    "X_train_padded = pad_sequences(X_train_seq, maxlen=max_len, padding='post')\n",
    "X_test_padded = pad_sequences(X_test_seq, maxlen=max_len, padding='post')"
   ]
  },
  {
   "cell_type": "code",
   "execution_count": 216,
   "id": "615f4419-63ca-4549-9571-8a022821524d",
   "metadata": {},
   "outputs": [
    {
     "name": "stdout",
     "output_type": "stream",
     "text": [
      "Epoch 1/10\n",
      "\u001b[1m36/36\u001b[0m \u001b[32m━━━━━━━━━━━━━━━━━━━━\u001b[0m\u001b[37m\u001b[0m \u001b[1m7s\u001b[0m 73ms/step - accuracy: 0.2462 - loss: 1.5832 - val_accuracy: 0.2993 - val_loss: 1.5477\n",
      "Epoch 2/10\n",
      "\u001b[1m36/36\u001b[0m \u001b[32m━━━━━━━━━━━━━━━━━━━━\u001b[0m\u001b[37m\u001b[0m \u001b[1m5s\u001b[0m 59ms/step - accuracy: 0.2938 - loss: 1.5318 - val_accuracy: 0.3067 - val_loss: 1.5299\n",
      "Epoch 3/10\n",
      "\u001b[1m36/36\u001b[0m \u001b[32m━━━━━━━━━━━━━━━━━━━━\u001b[0m\u001b[37m\u001b[0m \u001b[1m2s\u001b[0m 48ms/step - accuracy: 0.3515 - loss: 1.4781 - val_accuracy: 0.3140 - val_loss: 1.5076\n",
      "Epoch 4/10\n",
      "\u001b[1m36/36\u001b[0m \u001b[32m━━━━━━━━━━━━━━━━━━━━\u001b[0m\u001b[37m\u001b[0m \u001b[1m3s\u001b[0m 51ms/step - accuracy: 0.4892 - loss: 1.3979 - val_accuracy: 0.3253 - val_loss: 1.4847\n",
      "Epoch 5/10\n",
      "\u001b[1m36/36\u001b[0m \u001b[32m━━━━━━━━━━━━━━━━━━━━\u001b[0m\u001b[37m\u001b[0m \u001b[1m3s\u001b[0m 48ms/step - accuracy: 0.5560 - loss: 1.2641 - val_accuracy: 0.3300 - val_loss: 1.4564\n",
      "Epoch 6/10\n",
      "\u001b[1m36/36\u001b[0m \u001b[32m━━━━━━━━━━━━━━━━━━━━\u001b[0m\u001b[37m\u001b[0m \u001b[1m2s\u001b[0m 57ms/step - accuracy: 0.6587 - loss: 1.0888 - val_accuracy: 0.3487 - val_loss: 1.4312\n",
      "Epoch 7/10\n",
      "\u001b[1m36/36\u001b[0m \u001b[32m━━━━━━━━━━━━━━━━━━━━\u001b[0m\u001b[37m\u001b[0m \u001b[1m3s\u001b[0m 56ms/step - accuracy: 0.7191 - loss: 0.9134 - val_accuracy: 0.3580 - val_loss: 1.4241\n",
      "Epoch 8/10\n",
      "\u001b[1m36/36\u001b[0m \u001b[32m━━━━━━━━━━━━━━━━━━━━\u001b[0m\u001b[37m\u001b[0m \u001b[1m2s\u001b[0m 53ms/step - accuracy: 0.7706 - loss: 0.7434 - val_accuracy: 0.3580 - val_loss: 1.4282\n",
      "Epoch 9/10\n",
      "\u001b[1m36/36\u001b[0m \u001b[32m━━━━━━━━━━━━━━━━━━━━\u001b[0m\u001b[37m\u001b[0m \u001b[1m3s\u001b[0m 57ms/step - accuracy: 0.8158 - loss: 0.6069 - val_accuracy: 0.3433 - val_loss: 1.4476\n",
      "Epoch 10/10\n",
      "\u001b[1m36/36\u001b[0m \u001b[32m━━━━━━━━━━━━━━━━━━━━\u001b[0m\u001b[37m\u001b[0m \u001b[1m2s\u001b[0m 50ms/step - accuracy: 0.8571 - loss: 0.4869 - val_accuracy: 0.3440 - val_loss: 1.4741\n"
     ]
    }
   ],
   "source": [
    "history = model.fit(\n",
    "    X_train_padded,\n",
    "    y_train,\n",
    "    epochs=10,\n",
    "    batch_size=128,#8-512\n",
    "    validation_data=(X_test_padded, y_test)\n",
    ")"
   ]
  },
  {
   "cell_type": "code",
   "execution_count": 218,
   "id": "ab4c4c78-fa02-42a7-a283-739718336c2f",
   "metadata": {},
   "outputs": [
    {
     "name": "stdout",
     "output_type": "stream",
     "text": [
      "\u001b[1m47/47\u001b[0m \u001b[32m━━━━━━━━━━━━━━━━━━━━\u001b[0m\u001b[37m\u001b[0m \u001b[1m1s\u001b[0m 11ms/step - accuracy: 0.3481 - loss: 1.4564\n",
      "Test Accuracy: 34.40%\n"
     ]
    }
   ],
   "source": [
    "loss, accuracy = model.evaluate(X_test_padded, y_test)\n",
    "print(f\"Test Accuracy: {accuracy * 100:.2f}%\")"
   ]
  },
  {
   "cell_type": "code",
   "execution_count": 220,
   "id": "3899e3f7-7e4d-4b60-aba4-d00e73701d10",
   "metadata": {},
   "outputs": [
    {
     "data": {
      "image/png": "[encoded data removed]",
      "text/plain": [
       "<Figure size 800x600 with 1 Axes>"
      ]
     },
     "metadata": {},
     "output_type": "display_data"
    }
   ],
   "source": [
    "import matplotlib.pyplot as plt\n",
    "\n",
    "# Plot the training and validation loss\n",
    "def plot_training_history(history):\n",
    "    plt.figure(figsize=(8, 6))\n",
    "    \n",
    "    # Training loss\n",
    "    plt.plot(history.history['loss'], label='Training Loss', color='blue', marker='o')\n",
    "    \n",
    "    # Validation loss\n",
    "    plt.plot(history.history['val_loss'], label='Validation Loss', color='red', marker='o')\n",
    "    \n",
    "    plt.title('Training and Validation Loss')\n",
    "    plt.xlabel('Epochs')\n",
    "    plt.ylabel('Loss')\n",
    "    plt.legend()\n",
    "    plt.grid(True)\n",
    "    plt.show()\n",
    "\n",
    "# Assuming history contains the result of model.fit()\n",
    "plot_training_history(history)\n"
   ]
  },
  {
   "cell_type": "code",
   "execution_count": 164,
   "id": "95ade5c4-1add-4483-bc82-dfad4f9c3afd",
   "metadata": {},
   "outputs": [],
   "source": [
    "from sklearn.utils.class_weight import compute_class_weight\n",
    "\n",
    "class_weights = compute_class_weight('balanced', classes=np.unique(y_train), y=y_train)\n"
   ]
  },
  {
   "cell_type": "code",
   "execution_count": 174,
   "id": "566ca7b0-033e-48d4-9790-726be44a9cb2",
   "metadata": {},
   "outputs": [
    {
     "name": "stdout",
     "output_type": "stream",
     "text": [
      "Epoch 1/10\n",
      "\u001b[1m36/36\u001b[0m \u001b[32m━━━━━━━━━━━━━━━━━━━━\u001b[0m\u001b[37m\u001b[0m \u001b[1m3s\u001b[0m 32ms/step - accuracy: 0.9927 - loss: 0.0389 - val_accuracy: 0.4080 - val_loss: 2.4090\n",
      "Epoch 2/10\n",
      "\u001b[1m36/36\u001b[0m \u001b[32m━━━━━━━━━━━━━━━━━━━━\u001b[0m\u001b[37m\u001b[0m \u001b[1m1s\u001b[0m 29ms/step - accuracy: 0.9958 - loss: 0.0275 - val_accuracy: 0.4200 - val_loss: 2.4377\n",
      "Epoch 3/10\n",
      "\u001b[1m36/36\u001b[0m \u001b[32m━━━━━━━━━━━━━━━━━━━━\u001b[0m\u001b[37m\u001b[0m \u001b[1m1s\u001b[0m 32ms/step - accuracy: 0.9960 - loss: 0.0244 - val_accuracy: 0.4193 - val_loss: 2.4643\n",
      "Epoch 4/10\n",
      "\u001b[1m36/36\u001b[0m \u001b[32m━━━━━━━━━━━━━━━━━━━━\u001b[0m\u001b[37m\u001b[0m \u001b[1m1s\u001b[0m 30ms/step - accuracy: 0.9980 - loss: 0.0190 - val_accuracy: 0.4067 - val_loss: 2.6776\n",
      "Epoch 5/10\n",
      "\u001b[1m36/36\u001b[0m \u001b[32m━━━━━━━━━━━━━━━━━━━━\u001b[0m\u001b[37m\u001b[0m \u001b[1m1s\u001b[0m 30ms/step - accuracy: 0.9990 - loss: 0.0137 - val_accuracy: 0.4133 - val_loss: 2.7329\n",
      "Epoch 6/10\n",
      "\u001b[1m36/36\u001b[0m \u001b[32m━━━━━━━━━━━━━━━━━━━━\u001b[0m\u001b[37m\u001b[0m \u001b[1m1s\u001b[0m 31ms/step - accuracy: 0.9985 - loss: 0.0099 - val_accuracy: 0.4220 - val_loss: 2.7633\n",
      "Epoch 7/10\n",
      "\u001b[1m36/36\u001b[0m \u001b[32m━━━━━━━━━━━━━━━━━━━━\u001b[0m\u001b[37m\u001b[0m \u001b[1m1s\u001b[0m 31ms/step - accuracy: 0.9996 - loss: 0.0115 - val_accuracy: 0.4193 - val_loss: 2.8874\n",
      "Epoch 8/10\n",
      "\u001b[1m36/36\u001b[0m \u001b[32m━━━━━━━━━━━━━━━━━━━━\u001b[0m\u001b[37m\u001b[0m \u001b[1m1s\u001b[0m 30ms/step - accuracy: 0.9994 - loss: 0.0072 - val_accuracy: 0.4147 - val_loss: 3.0157\n",
      "Epoch 9/10\n",
      "\u001b[1m36/36\u001b[0m \u001b[32m━━━━━━━━━━━━━━━━━━━━\u001b[0m\u001b[37m\u001b[0m \u001b[1m1s\u001b[0m 30ms/step - accuracy: 0.9984 - loss: 0.0084 - val_accuracy: 0.4160 - val_loss: 2.9922\n",
      "Epoch 10/10\n",
      "\u001b[1m36/36\u001b[0m \u001b[32m━━━━━━━━━━━━━━━━━━━━\u001b[0m\u001b[37m\u001b[0m \u001b[1m1s\u001b[0m 30ms/step - accuracy: 0.9993 - loss: 0.0065 - val_accuracy: 0.4113 - val_loss: 3.0473\n"
     ]
    }
   ],
   "source": [
    "history = model.fit(\n",
    "    X_train_padded,\n",
    "    y_train,\n",
    "    epochs=10,\n",
    "    batch_size=128,\n",
    "    validation_data=(X_test_padded, y_test),\n",
    "    class_weight=dict(enumerate(class_weights))\n",
    ")"
   ]
  },
  {
   "cell_type": "code",
   "execution_count": 184,
   "id": "f9b7178c-69ac-48ce-9abb-2d6b2795b054",
   "metadata": {},
   "outputs": [
    {
     "name": "stdout",
     "output_type": "stream",
     "text": [
      "Epoch 1/10\n",
      "\u001b[1m36/36\u001b[0m \u001b[32m━━━━━━━━━━━━━━━━━━━━\u001b[0m\u001b[37m\u001b[0m \u001b[1m18s\u001b[0m 351ms/step - accuracy: 0.1920 - loss: 1.6174 - val_accuracy: 0.1653 - val_loss: 1.6100\n",
      "Epoch 2/10\n",
      "\u001b[1m36/36\u001b[0m \u001b[32m━━━━━━━━━━━━━━━━━━━━\u001b[0m\u001b[37m\u001b[0m \u001b[1m19s\u001b[0m 309ms/step - accuracy: 0.2000 - loss: 1.6125 - val_accuracy: 0.1653 - val_loss: 1.6130\n",
      "Epoch 3/10\n",
      "\u001b[1m36/36\u001b[0m \u001b[32m━━━━━━━━━━━━━━━━━━━━\u001b[0m\u001b[37m\u001b[0m \u001b[1m21s\u001b[0m 319ms/step - accuracy: 0.1860 - loss: 1.6094 - val_accuracy: 0.1333 - val_loss: 1.6118\n",
      "Epoch 4/10\n",
      "\u001b[1m36/36\u001b[0m \u001b[32m━━━━━━━━━━━━━━━━━━━━\u001b[0m\u001b[37m\u001b[0m \u001b[1m21s\u001b[0m 322ms/step - accuracy: 0.1948 - loss: 1.6066 - val_accuracy: 0.2387 - val_loss: 1.6088\n",
      "Epoch 5/10\n",
      "\u001b[1m36/36\u001b[0m \u001b[32m━━━━━━━━━━━━━━━━━━━━\u001b[0m\u001b[37m\u001b[0m \u001b[1m20s\u001b[0m 317ms/step - accuracy: 0.1890 - loss: 1.6111 - val_accuracy: 0.1653 - val_loss: 1.6101\n",
      "Epoch 6/10\n",
      "\u001b[1m36/36\u001b[0m \u001b[32m━━━━━━━━━━━━━━━━━━━━\u001b[0m\u001b[37m\u001b[0m \u001b[1m22s\u001b[0m 352ms/step - accuracy: 0.2084 - loss: 1.6017 - val_accuracy: 0.2387 - val_loss: 1.6091\n",
      "Epoch 7/10\n",
      "\u001b[1m36/36\u001b[0m \u001b[32m━━━━━━━━━━━━━━━━━━━━\u001b[0m\u001b[37m\u001b[0m \u001b[1m20s\u001b[0m 321ms/step - accuracy: 0.1805 - loss: 1.6049 - val_accuracy: 0.1653 - val_loss: 1.6097\n",
      "Epoch 8/10\n",
      "\u001b[1m36/36\u001b[0m \u001b[32m━━━━━━━━━━━━━━━━━━━━\u001b[0m\u001b[37m\u001b[0m \u001b[1m20s\u001b[0m 312ms/step - accuracy: 0.1831 - loss: 1.6178 - val_accuracy: 0.1653 - val_loss: 1.6109\n",
      "Epoch 9/10\n",
      "\u001b[1m36/36\u001b[0m \u001b[32m━━━━━━━━━━━━━━━━━━━━\u001b[0m\u001b[37m\u001b[0m \u001b[1m20s\u001b[0m 307ms/step - accuracy: 0.1812 - loss: 1.6185 - val_accuracy: 0.1653 - val_loss: 1.6095\n",
      "Epoch 10/10\n",
      "\u001b[1m36/36\u001b[0m \u001b[32m━━━━━━━━━━━━━━━━━━━━\u001b[0m\u001b[37m\u001b[0m \u001b[1m21s\u001b[0m 323ms/step - accuracy: 0.2052 - loss: 1.5994 - val_accuracy: 0.2387 - val_loss: 1.6096\n"
     ]
    }
   ],
   "source": [
    "model = Sequential([\n",
    "    Input(shape=(max_len,)),  # Assuming max_len=100\n",
    "    Embedding(input_dim=10000, output_dim=128),  # Embedding layer\n",
    "    LSTM(128, return_sequences=False),  # LSTM layer\n",
    "    Dropout(0.5),  # Dropout for regularization\n",
    "    Dense(64, activation='relu'),  # Dense layer\n",
    "    Dropout(0.5),  # Dropout for regularization\n",
    "    Dense(5, activation='softmax')  # Output layer for 5 classes\n",
    "])\n",
    "model.compile(\n",
    "    optimizer='adam',\n",
    "    loss='sparse_categorical_crossentropy',  # Use 'categorical_crossentropy' for one-hot labels\n",
    "    metrics=['accuracy']\n",
    ")\n",
    "\n",
    "history = model.fit(\n",
    "    X_train_padded,\n",
    "    y_train,\n",
    "    epochs=10,\n",
    "    batch_size=128,\n",
    "    validation_data=(X_test_padded, y_test),\n",
    "    class_weight=dict(enumerate(class_weights))\n",
    ")"
   ]
  },
  {
   "cell_type": "code",
   "execution_count": 222,
   "id": "f7bcbe54-e062-46ee-a687-c074bf26f650",
   "metadata": {},
   "outputs": [
    {
     "name": "stdout",
     "output_type": "stream",
     "text": [
      "\u001b[1m47/47\u001b[0m \u001b[32m━━━━━━━━━━━━━━━━━━━━\u001b[0m\u001b[37m\u001b[0m \u001b[1m1s\u001b[0m 12ms/step\n"
     ]
    }
   ],
   "source": [
    "y_pred_prob = model.predict(X_test_padded)\n",
    "\n",
    "# Convert probabilities to class labels\n",
    "y_pred = y_pred_prob.argmax(axis=1)  # Assumes a softmax output layer\n"
   ]
  },
  {
   "cell_type": "code",
   "execution_count": 224,
   "id": "666a7688-a345-47ea-9dd5-9c4c6fe8ad44",
   "metadata": {},
   "outputs": [
    {
     "name": "stdout",
     "output_type": "stream",
     "text": [
      "              precision    recall  f1-score   support\n",
      "\n",
      "           0       0.00      0.00      0.00       200\n",
      "           1       0.54      0.38      0.44       248\n",
      "           2       0.28      0.37      0.32       358\n",
      "           3       0.52      0.41      0.46       278\n",
      "           4       0.28      0.42      0.34       416\n",
      "\n",
      "    accuracy                           0.34      1500\n",
      "   macro avg       0.32      0.32      0.31      1500\n",
      "weighted avg       0.33      0.34      0.33      1500\n",
      "\n"
     ]
    },
    {
     "name": "stderr",
     "output_type": "stream",
     "text": [
      "C:\\Users\\visha\\anaconda3\\Lib\\site-packages\\sklearn\\metrics\\_classification.py:1531: UndefinedMetricWarning: Precision is ill-defined and being set to 0.0 in labels with no predicted samples. Use `zero_division` parameter to control this behavior.\n",
      "  _warn_prf(average, modifier, f\"{metric.capitalize()} is\", len(result))\n",
      "C:\\Users\\visha\\anaconda3\\Lib\\site-packages\\sklearn\\metrics\\_classification.py:1531: UndefinedMetricWarning: Precision is ill-defined and being set to 0.0 in labels with no predicted samples. Use `zero_division` parameter to control this behavior.\n",
      "  _warn_prf(average, modifier, f\"{metric.capitalize()} is\", len(result))\n",
      "C:\\Users\\visha\\anaconda3\\Lib\\site-packages\\sklearn\\metrics\\_classification.py:1531: UndefinedMetricWarning: Precision is ill-defined and being set to 0.0 in labels with no predicted samples. Use `zero_division` parameter to control this behavior.\n",
      "  _warn_prf(average, modifier, f\"{metric.capitalize()} is\", len(result))\n"
     ]
    }
   ],
   "source": [
    "from sklearn.metrics import classification_report\n",
    "\n",
    "# Print the classification report\n",
    "print(classification_report(y_test, y_pred))"
   ]
  },
  {
   "cell_type": "code",
   "execution_count": 260,
   "id": "314c42cd-4523-49c5-bda8-43e5082427b8",
   "metadata": {},
   "outputs": [
    {
     "data": {
      "text/plain": [
       "<Axes: >"
      ]
     },
     "execution_count": 260,
     "metadata": {},
     "output_type": "execute_result"
    },
    {
     "data": {
      "image/png": "[encoded data removed]",
      "text/plain": [
       "<Figure size 640x480 with 2 Axes>"
      ]
     },
     "metadata": {},
     "output_type": "display_data"
    }
   ],
   "source": [
    "from sklearn.metrics import confusion_matrix\n",
    "sns.heatmap(confusion_matrix(le.inverse_transform(y_test),le.inverse_transform(y_pred)),annot=True)"
   ]
  },
  {
   "cell_type": "code",
   "execution_count": 256,
   "id": "6c6cc291-b085-4d21-90c7-c2b8837d9e14",
   "metadata": {},
   "outputs": [],
   "source": [
    "columns = le.inverse_transform([0,1,2,3,4])"
   ]
  },
  {
   "cell_type": "code",
   "execution_count": 252,
   "id": "8e477f49-413d-4950-a43e-0e7acea4183f",
   "metadata": {},
   "outputs": [
    {
     "data": {
      "text/plain": [
       "['Extremely Positive']"
      ]
     },
     "execution_count": 252,
     "metadata": {},
     "output_type": "execute_result"
    }
   ],
   "source": [
    "list(le.inverse_transform([1]))"
   ]
  },
  {
   "cell_type": "code",
   "execution_count": null,
   "id": "740a02c7-688e-460c-be08-16198016ca8e",
   "metadata": {},
   "outputs": [],
   "source": []
  }
 ],
 "metadata": {
  "kernelspec": {
   "display_name": "Python 3 (ipykernel)",
   "language": "python",
   "name": "python3"
  },
  "language_info": {
   "codemirror_mode": {
    "name": "ipython",
    "version": 3
   },
   "file_extension": ".py",
   "mimetype": "text/x-python",
   "name": "python",
   "nbconvert_exporter": "python",
   "pygments_lexer": "ipython3",
   "version": "3.12.7"
  }
 },
 "nbformat": 4,
 "nbformat_minor": 5
}
