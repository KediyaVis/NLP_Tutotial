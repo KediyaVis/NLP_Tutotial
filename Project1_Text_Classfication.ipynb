{
 "cells": [
  {
   "cell_type": "code",
   "execution_count": 4,
   "id": "dcd4beb2-994b-4d55-aa9b-828378ca2d6c",
   "metadata": {},
   "outputs": [
    {
     "name": "stdout",
     "output_type": "stream",
     "text": [
      "Downloading from https://www.kaggle.com/api/v1/datasets/download/datatattle/covid-19-nlp-text-classification?dataset_version_number=1...\n"
     ]
    },
    {
     "name": "stderr",
     "output_type": "stream",
     "text": [
      "100%|██████████| 4.38M/4.38M [00:03<00:00, 1.22MB/s]"
     ]
    },
    {
     "name": "stdout",
     "output_type": "stream",
     "text": [
      "Extracting files...\n"
     ]
    },
    {
     "name": "stderr",
     "output_type": "stream",
     "text": [
      "\n"
     ]
    },
    {
     "name": "stdout",
     "output_type": "stream",
     "text": [
      "Path to dataset files: C:\\Users\\visha\\.cache\\kagglehub\\datasets\\datatattle\\covid-19-nlp-text-classification\\versions\\1\n"
     ]
    }
   ],
   "source": [
    "import kagglehub\n",
    "\n",
    "# Download latest version\n",
    "path = kagglehub.dataset_download(\"datatattle/covid-19-nlp-text-classification\")\n",
    "\n",
    "print(\"Path to dataset files:\", path)"
   ]
  },
  {
   "cell_type": "code",
   "execution_count": 249,
   "id": "382f2993-7836-4fa9-9f44-8a5cb51f514e",
   "metadata": {},
   "outputs": [],
   "source": [
    "import pandas as pd\n",
    "df = pd.read_csv('Corona_NLP_train.csv',encoding='latin-1')\n",
    "df=df.sample(5000).reset_index(drop=True)"
   ]
  },
  {
   "cell_type": "code",
   "execution_count": 251,
   "id": "c82c3e87-e8d8-4ff1-b711-48c5dc8bf8fc",
   "metadata": {},
   "outputs": [
    {
     "name": "stdout",
     "output_type": "stream",
     "text": [
      "<class 'pandas.core.frame.DataFrame'>\n",
      "RangeIndex: 5000 entries, 0 to 4999\n",
      "Data columns (total 6 columns):\n",
      " #   Column         Non-Null Count  Dtype \n",
      "---  ------         --------------  ----- \n",
      " 0   UserName       5000 non-null   int64 \n",
      " 1   ScreenName     5000 non-null   int64 \n",
      " 2   Location       3984 non-null   object\n",
      " 3   TweetAt        5000 non-null   object\n",
      " 4   OriginalTweet  5000 non-null   object\n",
      " 5   Sentiment      5000 non-null   object\n",
      "dtypes: int64(2), object(4)\n",
      "memory usage: 234.5+ KB\n"
     ]
    }
   ],
   "source": [
    "df.info()"
   ]
  },
  {
   "cell_type": "code",
   "execution_count": 261,
   "id": "5f6a323f-8b97-475f-8cb8-39bd833baede",
   "metadata": {},
   "outputs": [
    {
     "data": {
      "text/plain": [
       "\"Our partners at Healthwise have put together a comprehensive consumer resource center on #COVID19 topics. It's available for free to anyone and provides some great information. #Healthwise https://t.co/bbzWYVbCVm\""
      ]
     },
     "execution_count": 261,
     "metadata": {},
     "output_type": "execute_result"
    }
   ],
   "source": [
    "df['OriginalTweet'][7]\n"
   ]
  },
  {
   "cell_type": "code",
   "execution_count": 259,
   "id": "5e9d9802-7bd7-4164-983e-e5259ad2e756",
   "metadata": {},
   "outputs": [
    {
     "data": {
      "text/plain": [
       "'Supermarket cashiers get R102m pay bonus for Covid-19 work https://t.co/63DBXYvgaL'"
      ]
     },
     "execution_count": 259,
     "metadata": {},
     "output_type": "execute_result"
    }
   ],
   "source": [
    "df['OriginalTweet'][5]"
   ]
  },
  {
   "cell_type": "code",
   "execution_count": 263,
   "id": "374abbcc-f556-42e6-9f64-5b651d66b8db",
   "metadata": {},
   "outputs": [
    {
     "data": {
      "text/plain": [
       "(5000, 6)"
      ]
     },
     "execution_count": 263,
     "metadata": {},
     "output_type": "execute_result"
    }
   ],
   "source": [
    "df.shape"
   ]
  },
  {
   "cell_type": "code",
   "execution_count": 265,
   "id": "0fd578bd-78f6-429d-a1d4-e672ac905861",
   "metadata": {},
   "outputs": [
    {
     "data": {
      "text/plain": [
       "Sentiment\n",
       "Positive              0.2746\n",
       "Negative              0.2374\n",
       "Neutral               0.1912\n",
       "Extremely Positive    0.1674\n",
       "Extremely Negative    0.1294\n",
       "Name: proportion, dtype: float64"
      ]
     },
     "execution_count": 265,
     "metadata": {},
     "output_type": "execute_result"
    }
   ],
   "source": [
    "df.Sentiment.value_counts(normalize=True)"
   ]
  },
  {
   "cell_type": "code",
   "execution_count": 150,
   "id": "fe478c09-00ad-4aca-a95e-d38328e474db",
   "metadata": {},
   "outputs": [],
   "source": [
    "import seaborn as sns\n",
    "import matplotlib.pyplot as plt"
   ]
  },
  {
   "cell_type": "code",
   "execution_count": null,
   "id": "c090c0bf-8bf9-497a-80d3-8abb1b712b9e",
   "metadata": {},
   "outputs": [],
   "source": [
    "# Text Classification\n",
    "'''\n",
    "Confusion matrix\n",
    "\n",
    "precsion / recall / f1-score\n",
    "\n",
    "auc-roc scores\n",
    "\n",
    "accuracy\n",
    "\n",
    "train data or test data\n",
    "\n",
    "i have build a model having f1-score 0.7 .\n",
    "\n",
    "'''"
   ]
  },
  {
   "cell_type": "code",
   "execution_count": 152,
   "id": "4228de2a-3165-4ad0-820d-40f0f65e1a3c",
   "metadata": {},
   "outputs": [
    {
     "data": {
      "text/plain": [
       "Text(0.5, 1.0, 'Sentiment Distribution')"
      ]
     },
     "execution_count": 152,
     "metadata": {},
     "output_type": "execute_result"
    },
    {
     "data": {
      "image/png": "[encoded data removed]",
      "text/plain": [
       "<Figure size 640x480 with 1 Axes>"
      ]
     },
     "metadata": {},
     "output_type": "display_data"
    }
   ],
   "source": [
    "\n",
    "\n",
    "sns.countplot( data=df, x='Sentiment', order = ['Extremely Positive', 'Positive', 'Neutral', 'Negative', 'Extremely Negative'])\n",
    "plt.title(\"Sentiment Distribution\")"
   ]
  },
  {
   "cell_type": "code",
   "execution_count": 168,
   "id": "b39d7a02-d2ae-4d62-8ea4-ff46d54e1709",
   "metadata": {},
   "outputs": [],
   "source": [
    "df=df.reset_index(drop=True)"
   ]
  },
  {
   "cell_type": "code",
   "execution_count": 267,
   "id": "06e71208-016b-430e-90de-56ece6ebdde7",
   "metadata": {},
   "outputs": [
    {
     "name": "stderr",
     "output_type": "stream",
     "text": [
      "[nltk_data] Downloading package stopwords to\n",
      "[nltk_data]     C:\\Users\\visha\\AppData\\Roaming\\nltk_data...\n",
      "[nltk_data]   Package stopwords is already up-to-date!\n",
      "[nltk_data] Downloading package wordnet to\n",
      "[nltk_data]     C:\\Users\\visha\\AppData\\Roaming\\nltk_data...\n",
      "[nltk_data]   Package wordnet is already up-to-date!\n"
     ]
    }
   ],
   "source": [
    "import nltk\n",
    "from nltk.tokenize import word_tokenize\n",
    "from nltk.corpus import stopwords\n",
    "nltk.download('stopwords')\n",
    "nltk.download('wordnet')\n",
    "from nltk.stem import PorterStemmer\n",
    "import re \n",
    "\n",
    "stem=PorterStemmer()\n",
    "corpus = []\n",
    "\n"
   ]
  },
  {
   "cell_type": "code",
   "execution_count": 269,
   "id": "6fb72d65-79a6-4ffc-9d4a-76be8adef92e",
   "metadata": {},
   "outputs": [],
   "source": [
    "corpus1 = []\n",
    "text = df.OriginalTweet\n",
    "for i in range(len(text)):\n",
    "\n",
    "    r = re.sub('[^a-zA-Z]', ' ', text[i])\n",
    "\n",
    "    r = r.lower()\n",
    "\n",
    "\n",
    "    corpus1.append(r)\n"
   ]
  },
  {
   "cell_type": "code",
   "execution_count": 271,
   "id": "bc13a5ee-6827-4d9a-9fd1-c67d72cd88b3",
   "metadata": {},
   "outputs": [],
   "source": [
    "corpus = []\n",
    "text = df.OriginalTweet\n",
    "for i in range(len(corpus1)):\n",
    "    r = corpus1[i].split(\" \")\n",
    "    r = [word for word in r if word not in stopwords.words('english')]\n",
    "    r = [stem.stem(word) for word in r]\n",
    "    r = \" \".join(r)\n",
    "    corpus.append(r)\n"
   ]
  },
  {
   "cell_type": "code",
   "execution_count": 273,
   "id": "d64ee461-0aa0-4665-90f2-5036311799d0",
   "metadata": {},
   "outputs": [
    {
     "data": {
      "text/html": [
       "<div>\n",
       "<style scoped>\n",
       "    .dataframe tbody tr th:only-of-type {\n",
       "        vertical-align: middle;\n",
       "    }\n",
       "\n",
       "    .dataframe tbody tr th {\n",
       "        vertical-align: top;\n",
       "    }\n",
       "\n",
       "    .dataframe thead th {\n",
       "        text-align: right;\n",
       "    }\n",
       "</style>\n",
       "<table border=\"1\" class=\"dataframe\">\n",
       "  <thead>\n",
       "    <tr style=\"text-align: right;\">\n",
       "      <th></th>\n",
       "      <th>UserName</th>\n",
       "      <th>ScreenName</th>\n",
       "      <th>Location</th>\n",
       "      <th>TweetAt</th>\n",
       "      <th>OriginalTweet</th>\n",
       "      <th>Sentiment</th>\n",
       "      <th>text</th>\n",
       "    </tr>\n",
       "  </thead>\n",
       "  <tbody>\n",
       "    <tr>\n",
       "      <th>0</th>\n",
       "      <td>31519</td>\n",
       "      <td>76471</td>\n",
       "      <td>Europe</td>\n",
       "      <td>03-04-2020</td>\n",
       "      <td>#coronavirus #bbcnews  WE Need To CLAP for our...</td>\n",
       "      <td>Extremely Negative</td>\n",
       "      <td>coronaviru bbcnew need clap supermarket staff ...</td>\n",
       "    </tr>\n",
       "    <tr>\n",
       "      <th>1</th>\n",
       "      <td>40505</td>\n",
       "      <td>85457</td>\n",
       "      <td>NaN</td>\n",
       "      <td>09-04-2020</td>\n",
       "      <td>You know the #toiletpaper shortage is bad when...</td>\n",
       "      <td>Positive</td>\n",
       "      <td>know toiletpap shortag bad got friend live sid...</td>\n",
       "    </tr>\n",
       "    <tr>\n",
       "      <th>2</th>\n",
       "      <td>4651</td>\n",
       "      <td>49603</td>\n",
       "      <td>United Kingdom</td>\n",
       "      <td>17-03-2020</td>\n",
       "      <td>. @retailgazette  \"Morrisons launches a Âhard...</td>\n",
       "      <td>Negative</td>\n",
       "      <td>retailgazett morrison launch hardship fund sta...</td>\n",
       "    </tr>\n",
       "    <tr>\n",
       "      <th>3</th>\n",
       "      <td>40916</td>\n",
       "      <td>85868</td>\n",
       "      <td>National Capital Region</td>\n",
       "      <td>10-04-2020</td>\n",
       "      <td>GRAPHIC-How COVID-19 affected U.S. consumer pr...</td>\n",
       "      <td>Negative</td>\n",
       "      <td>graphic covid affect u consum price march http...</td>\n",
       "    </tr>\n",
       "    <tr>\n",
       "      <th>4</th>\n",
       "      <td>4407</td>\n",
       "      <td>49359</td>\n",
       "      <td>Boston, MA</td>\n",
       "      <td>16-03-2020</td>\n",
       "      <td>We are headed for an extinction-level event fo...</td>\n",
       "      <td>Positive</td>\n",
       "      <td>head extinct level event consum brand oper dig...</td>\n",
       "    </tr>\n",
       "  </tbody>\n",
       "</table>\n",
       "</div>"
      ],
      "text/plain": [
       "   UserName  ScreenName                 Location     TweetAt  \\\n",
       "0     31519       76471                   Europe  03-04-2020   \n",
       "1     40505       85457                      NaN  09-04-2020   \n",
       "2      4651       49603           United Kingdom  17-03-2020   \n",
       "3     40916       85868  National Capital Region  10-04-2020   \n",
       "4      4407       49359               Boston, MA  16-03-2020   \n",
       "\n",
       "                                       OriginalTweet           Sentiment  \\\n",
       "0  #coronavirus #bbcnews  WE Need To CLAP for our...  Extremely Negative   \n",
       "1  You know the #toiletpaper shortage is bad when...            Positive   \n",
       "2  . @retailgazette  \"Morrisons launches a Âhard...            Negative   \n",
       "3  GRAPHIC-How COVID-19 affected U.S. consumer pr...            Negative   \n",
       "4  We are headed for an extinction-level event fo...            Positive   \n",
       "\n",
       "                                                text  \n",
       "0  coronaviru bbcnew need clap supermarket staff ...  \n",
       "1  know toiletpap shortag bad got friend live sid...  \n",
       "2  retailgazett morrison launch hardship fund sta...  \n",
       "3  graphic covid affect u consum price march http...  \n",
       "4  head extinct level event consum brand oper dig...  "
      ]
     },
     "execution_count": 273,
     "metadata": {},
     "output_type": "execute_result"
    }
   ],
   "source": [
    "df['text'] = corpus\n",
    "\n",
    "df.head()"
   ]
  },
  {
   "cell_type": "code",
   "execution_count": 275,
   "id": "f6a53b8b-c0f2-4e7f-bf5d-3dacee7cd804",
   "metadata": {},
   "outputs": [],
   "source": [
    "\n",
    "X = df['text']\n",
    "\n",
    "y = df['Sentiment']"
   ]
  },
  {
   "cell_type": "code",
   "execution_count": 279,
   "id": "5492a463-cb4f-4cba-97c3-d8ae425da99d",
   "metadata": {},
   "outputs": [
    {
     "data": {
      "text/plain": [
       "0       Extremely Negative\n",
       "1                 Positive\n",
       "2                 Negative\n",
       "3                 Negative\n",
       "4                 Positive\n",
       "               ...        \n",
       "4995    Extremely Negative\n",
       "4996    Extremely Negative\n",
       "4997    Extremely Positive\n",
       "4998               Neutral\n",
       "4999              Negative\n",
       "Name: Sentiment, Length: 5000, dtype: object"
      ]
     },
     "execution_count": 279,
     "metadata": {},
     "output_type": "execute_result"
    }
   ],
   "source": [
    "y"
   ]
  },
  {
   "cell_type": "code",
   "execution_count": 281,
   "id": "94b255fb-6192-4f1c-a3f1-5be2d302e2da",
   "metadata": {},
   "outputs": [
    {
     "name": "stdout",
     "output_type": "stream",
     "text": [
      "[0 4 2 ... 1 3 2]\n"
     ]
    }
   ],
   "source": [
    "from sklearn.preprocessing import LabelEncoder\n",
    "\n",
    "# Example target column\n",
    "\n",
    "# Initialize and apply label encoder\n",
    "le = LabelEncoder()\n",
    "y_encoded = le.fit_transform(y)\n",
    "\n",
    "# View encoded labels\n",
    "print(y_encoded)  # Output: [0, 1, 0, 2]\n",
    "\n"
   ]
  },
  {
   "cell_type": "code",
   "execution_count": 301,
   "id": "78d99906-512b-4f22-9598-99d7be0c5812",
   "metadata": {},
   "outputs": [
    {
     "name": "stdout",
     "output_type": "stream",
     "text": [
      "Training Data : (3750,)\n",
      "Testing Data :  (1250,)\n"
     ]
    }
   ],
   "source": [
    "from sklearn.model_selection import train_test_split\n",
    "\n",
    "X_train, X_test, y_train, y_test = train_test_split(X, y, test_size=0.25, random_state=123,stratify=y)\n",
    "\n",
    "\n",
    "\n",
    "\n",
    "print('Training Data :', X_train.shape)\n",
    "\n",
    "print('Testing Data : ', X_test.shape)"
   ]
  },
  {
   "cell_type": "code",
   "execution_count": 303,
   "id": "88f304f4-48b6-4bc1-92e1-4e671e6eb1fb",
   "metadata": {},
   "outputs": [
    {
     "data": {
      "text/plain": [
       "Sentiment\n",
       "Positive              0.274667\n",
       "Negative              0.237333\n",
       "Neutral               0.191200\n",
       "Extremely Positive    0.167467\n",
       "Extremely Negative    0.129333\n",
       "Name: proportion, dtype: float64"
      ]
     },
     "execution_count": 303,
     "metadata": {},
     "output_type": "execute_result"
    }
   ],
   "source": [
    "y_train.value_counts(normalize=True)\n"
   ]
  },
  {
   "cell_type": "code",
   "execution_count": 305,
   "id": "e8e9a1dd-756e-4706-93db-e238f9c2711b",
   "metadata": {},
   "outputs": [
    {
     "data": {
      "text/plain": [
       "Sentiment\n",
       "Positive              0.2744\n",
       "Negative              0.2376\n",
       "Neutral               0.1912\n",
       "Extremely Positive    0.1672\n",
       "Extremely Negative    0.1296\n",
       "Name: proportion, dtype: float64"
      ]
     },
     "execution_count": 305,
     "metadata": {},
     "output_type": "execute_result"
    }
   ],
   "source": [
    "y_test.value_counts(normalize=True)\n"
   ]
  },
  {
   "cell_type": "code",
   "execution_count": 205,
   "id": "a017a922-8d21-445a-ade4-fab6896932dc",
   "metadata": {},
   "outputs": [
    {
     "data": {
      "text/plain": [
       "314     sit idli someon scream groceri store walmart e...\n",
       "988     break import news flash hand sanit like vaccin...\n",
       "1294    custom mean inconsider dozen time day upset in...\n",
       "242     never thought pac man play day would help yet ...\n",
       "2954    arrest koboko northern uganda hike price salt ...\n",
       "                              ...                        \n",
       "1593    shock video london amp area uk show supermarke...\n",
       "4060    nir eynon hi nir releas local econom stimulu p...\n",
       "1346    new mexico food bank report troubl keep shelv ...\n",
       "3454    ask ok said continu preced lay flat ground ran...\n",
       "3582    thousand wisconsin vote crowd poll place pande...\n",
       "Name: text, Length: 3350, dtype: object"
      ]
     },
     "execution_count": 205,
     "metadata": {},
     "output_type": "execute_result"
    }
   ],
   "source": [
    "X_train"
   ]
  },
  {
   "cell_type": "code",
   "execution_count": 307,
   "id": "5a9405f5-fb80-471b-b9e4-8c22b4d837ee",
   "metadata": {},
   "outputs": [
    {
     "data": {
      "text/plain": [
       "(3750, 12647)"
      ]
     },
     "execution_count": 307,
     "metadata": {},
     "output_type": "execute_result"
    }
   ],
   "source": [
    "from sklearn.feature_extraction.text import CountVectorizer\n",
    "\n",
    "cv = CountVectorizer()\n",
    "\n",
    "X_train_cv = cv.fit_transform(X_train)\n",
    "\n",
    "X_train_cv.shape"
   ]
  },
  {
   "cell_type": "code",
   "execution_count": 223,
   "id": "2b202ddc-80a2-48fc-b66b-e71bc249df96",
   "metadata": {},
   "outputs": [
    {
     "data": {
      "text/plain": [
       "<1x10 sparse matrix of type '<class 'numpy.int64'>'\n",
       "\twith 0 stored elements in Compressed Sparse Row format>"
      ]
     },
     "execution_count": 223,
     "metadata": {},
     "output_type": "execute_result"
    }
   ],
   "source": [
    "X_train_cv[0,:10]"
   ]
  },
  {
   "cell_type": "code",
   "execution_count": 309,
   "id": "9b6414e0-ac03-4bbe-938d-0c7dc7b700f2",
   "metadata": {},
   "outputs": [],
   "source": [
    "from sklearn.naive_bayes import MultinomialNB\n",
    "lr = MultinomialNB()\n",
    "\n",
    "lr.fit(X_train_cv, y_train)\n",
    "\n",
    "\n",
    "\n",
    "\n",
    "# transform X_test using CV\n",
    "\n",
    "X_test_cv = cv.transform(X_test)\n"
   ]
  },
  {
   "cell_type": "code",
   "execution_count": 311,
   "id": "b9159ccb-1521-410b-b1cb-e7afdc49701d",
   "metadata": {},
   "outputs": [
    {
     "data": {
      "text/plain": [
       "array(['Positive', 'Extremely Positive', 'Positive', ..., 'Neutral',\n",
       "       'Positive', 'Positive'], dtype='<U18')"
      ]
     },
     "execution_count": 311,
     "metadata": {},
     "output_type": "execute_result"
    }
   ],
   "source": [
    "predictions = lr.predict(X_test_cv)\n",
    "\n",
    "predictions"
   ]
  },
  {
   "cell_type": "code",
   "execution_count": 313,
   "id": "9ce8d9b2-fc37-4a63-86c3-b821ff0f4ba3",
   "metadata": {},
   "outputs": [],
   "source": [
    "from sklearn.metrics import classification_report\n",
    "report = classification_report(y_test, predictions, output_dict=True)\n",
    "\n",
    "# Convert the dictionary into a DataFrame\n",
    "report_df = pd.DataFrame(report).transpose()\n"
   ]
  },
  {
   "cell_type": "code",
   "execution_count": 315,
   "id": "bfaf7d65-a98d-4147-93e4-e7b3d3f79cbf",
   "metadata": {},
   "outputs": [
    {
     "data": {
      "text/html": [
       "<div>\n",
       "<style scoped>\n",
       "    .dataframe tbody tr th:only-of-type {\n",
       "        vertical-align: middle;\n",
       "    }\n",
       "\n",
       "    .dataframe tbody tr th {\n",
       "        vertical-align: top;\n",
       "    }\n",
       "\n",
       "    .dataframe thead th {\n",
       "        text-align: right;\n",
       "    }\n",
       "</style>\n",
       "<table border=\"1\" class=\"dataframe\">\n",
       "  <thead>\n",
       "    <tr style=\"text-align: right;\">\n",
       "      <th></th>\n",
       "      <th>precision</th>\n",
       "      <th>recall</th>\n",
       "      <th>f1-score</th>\n",
       "      <th>support</th>\n",
       "    </tr>\n",
       "  </thead>\n",
       "  <tbody>\n",
       "    <tr>\n",
       "      <th>Extremely Negative</th>\n",
       "      <td>0.531915</td>\n",
       "      <td>0.154321</td>\n",
       "      <td>0.239234</td>\n",
       "      <td>162.00</td>\n",
       "    </tr>\n",
       "    <tr>\n",
       "      <th>Extremely Positive</th>\n",
       "      <td>0.560748</td>\n",
       "      <td>0.287081</td>\n",
       "      <td>0.379747</td>\n",
       "      <td>209.00</td>\n",
       "    </tr>\n",
       "    <tr>\n",
       "      <th>Negative</th>\n",
       "      <td>0.340659</td>\n",
       "      <td>0.417508</td>\n",
       "      <td>0.375189</td>\n",
       "      <td>297.00</td>\n",
       "    </tr>\n",
       "    <tr>\n",
       "      <th>Neutral</th>\n",
       "      <td>0.666667</td>\n",
       "      <td>0.234310</td>\n",
       "      <td>0.346749</td>\n",
       "      <td>239.00</td>\n",
       "    </tr>\n",
       "    <tr>\n",
       "      <th>Positive</th>\n",
       "      <td>0.324074</td>\n",
       "      <td>0.612245</td>\n",
       "      <td>0.423814</td>\n",
       "      <td>343.00</td>\n",
       "    </tr>\n",
       "    <tr>\n",
       "      <th>accuracy</th>\n",
       "      <td>0.380000</td>\n",
       "      <td>0.380000</td>\n",
       "      <td>0.380000</td>\n",
       "      <td>0.38</td>\n",
       "    </tr>\n",
       "    <tr>\n",
       "      <th>macro avg</th>\n",
       "      <td>0.484813</td>\n",
       "      <td>0.341093</td>\n",
       "      <td>0.352947</td>\n",
       "      <td>1250.00</td>\n",
       "    </tr>\n",
       "    <tr>\n",
       "      <th>weighted avg</th>\n",
       "      <td>0.460026</td>\n",
       "      <td>0.380000</td>\n",
       "      <td>0.366236</td>\n",
       "      <td>1250.00</td>\n",
       "    </tr>\n",
       "  </tbody>\n",
       "</table>\n",
       "</div>"
      ],
      "text/plain": [
       "                    precision    recall  f1-score  support\n",
       "Extremely Negative   0.531915  0.154321  0.239234   162.00\n",
       "Extremely Positive   0.560748  0.287081  0.379747   209.00\n",
       "Negative             0.340659  0.417508  0.375189   297.00\n",
       "Neutral              0.666667  0.234310  0.346749   239.00\n",
       "Positive             0.324074  0.612245  0.423814   343.00\n",
       "accuracy             0.380000  0.380000  0.380000     0.38\n",
       "macro avg            0.484813  0.341093  0.352947  1250.00\n",
       "weighted avg         0.460026  0.380000  0.366236  1250.00"
      ]
     },
     "execution_count": 315,
     "metadata": {},
     "output_type": "execute_result"
    }
   ],
   "source": [
    "report_df"
   ]
  },
  {
   "cell_type": "code",
   "execution_count": null,
   "id": "6d686cd3-890f-4eff-8aec-0b13f9639a96",
   "metadata": {},
   "outputs": [],
   "source": []
  }
 ],
 "metadata": {
  "kernelspec": {
   "display_name": "Python 3 (ipykernel)",
   "language": "python",
   "name": "python3"
  },
  "language_info": {
   "codemirror_mode": {
    "name": "ipython",
    "version": 3
   },
   "file_extension": ".py",
   "mimetype": "text/x-python",
   "name": "python",
   "nbconvert_exporter": "python",
   "pygments_lexer": "ipython3",
   "version": "3.12.7"
  }
 },
 "nbformat": 4,
 "nbformat_minor": 5
}
